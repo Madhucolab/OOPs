{
  "nbformat": 4,
  "nbformat_minor": 0,
  "metadata": {
    "colab": {
      "provenance": []
    },
    "kernelspec": {
      "name": "python3",
      "display_name": "Python 3"
    },
    "language_info": {
      "name": "python"
    }
  },
  "cells": [
    {
      "cell_type": "code",
      "source": [
        "                                        # THEORY QUESTION\n",
        "\n",
        "\n",
        "1. What is Object-Oriented Programming (OOP)?\n",
        "Ans:-Object-Oriented Programming (OOP) is a programming paradigm that\n",
        "organizes code around \"objects,\"An object can be defined as a data field that has unique attributes and behavior.\n",
        "the operations that can be performed on that data (methods),essentially modeling real-world entities and their interactions\n",
        "within a program by creating classes that act as blueprints for these objects;For example, OOP can be used for manufacturing system simulation software.\n",
        "\n",
        "2.What is a class in OOP?\n",
        "Ans:-Object-Oriented Programming (OOP), a \"class\" is a blueprint or template that denes the attributes (data) and behaviors (methods) of a specic type\n",
        "of object,essentially a blueprint for creating objects serving as a design for creating multiple similar objects with consistent properties and functionalities.\n",
        "\n",
        "3.What is an object in OOP?\n",
        "Ans:-An object in OOP is an instance of a class. It represents a specific entity that encapsulates both data (attributes) and functions (methods)\n",
        "defined by its class. When you create an object from a class, you are instantiating that blueprint, giving you a concrete entity that can interact\n",
        "with other objects or perform operations defined by its methods. An object has an identity, state, and behavior. Each object contains data and code\n",
        "to manipulate the data of each other’s data or code.\n",
        "\n",
        "4.What is the difference between abstraction and encapsulation?\n",
        "Ans:-\n",
        "               Abstraction\n",
        "it is the process of gaining information.\n",
        "The problems in this technique are solved at the interface level.\n",
        "It helps hide the unwanted details/information\n",
        "It can be implemented using abstract classes and interfaces.\n",
        "Abstraction can be performed using objects that are encapsulated within a single module.\n",
        "\n",
        "          encapsulation\n",
        "It is a method that helps wrap up data into a single module.\n",
        "Problems in encapsulation are solved at the implementation level.\n",
        "It can be implemented using access modifiers like public, private and protected.\n",
        "The data is hidden using methods such as getters and setters.\n",
        "Objects in encapsulation don't need to be in abstraction.\n",
        "\n",
        "5.what are dunder method in python?\n",
        "Ans:-Dunder methods short for (\"double underscore\" methods), also known as magic methods, are special methods in Python that have names starting and\n",
        "ending with double underscores ( __init__, __str__, __repr__). They allow developers to define or customize the behavior of objects for built-in\n",
        "operations such as object creation, string representation, attribute access, arithmetic operations, and more.\n",
        "\n",
        "__init__: Initializes a new instance of a class.\n",
        "__str__: Defines the human-readable string representation of an object.\n",
        "__repr__: Provides an unambiguous string representation of an object, useful for debugging.\n",
        "\n",
        "6.Explain the concept of inheritance in OOP?\n",
        "Ans:-In computer programming, Inheritance is one of the most important concepts followed by Abstraction, Encapsulation and Polymorphism in the Object\n",
        "OrientedProgramming (OOPS) Paradigm. This mechanism allows the new objects to take othe properties of existing objects. Inheritance builds relationships\n",
        "within the classes;therefore, relating two or more classes to each other and establishing clas hierarchies. Rather than writing the same code,\n",
        "again and again, the programmers can use the code that is already created by inheriting its class.inheritance is a fundamental concept in object-oriented\n",
        "programming (OOP) where a class (known as the subclass or derived class) can inherit attributes and methods from another class (called the parent or\n",
        "base class). This allows you to reuse code, create hierarchical relationships between classes, and implement polymorphism.\n",
        "\n",
        "7.What is polymorphism in OOP?\n",
        "Ans:-Polymorphism in object-oriented programming (OOP) is the ability for objects of different classes to be treated as objects of a common superclass.\n",
        "It allows methods to be used interchangeably on different types of objects, with each type implementing the method in its own way. In essence,\n",
        "polymorphism means many forms, allowing a single interface to represent different underlying data types.\n",
        "\n",
        "8.How is encapsulation achieved in Python?\n",
        "Ans:-Encapsulation in Python is the practice of bundling data (attributes) and the methods that operate on that data into a single unit or class,\n",
        "while restricting direct access to some of the object components. Although Python doesn't enforce strict access control as some other languages do,\n",
        "it follows certain conventions to achieve encapsulation that operate on the data into a single unit, typically a class. It also restricts direct access\n",
        "to some components, which helps protect the integrity of the data and ensures proper usage.\n",
        "\n",
        "9.What is a constructor in Python?\n",
        "Ans:-Constructors in Python is a special class method for creating and initializing an object instance at that class. Every Python\n",
        "class has a constructor; it not required to be defined explicitly. The purpose of the constructor is to construct an object and assign a value to the\n",
        "object members. A constructor in Python is a special method called__init__ that is automatically invoked when a new instance of a class is created.\n",
        "It allows you to initialize the object attributes with initial values or perform any setup necessary for the object.\n",
        "\n",
        "10.What are class and static methods in Python?\n",
        "Ans:-The @classmethod decorator is a built-in function decorator that is an expression that gets evaluated after your function is defined.\n",
        "The result of that evaluation shadows your function definition. A class method receives the class as an implicit first argument,\n",
        "just like an instance method receives the instance.\n",
        "A static method does not receive an implicit first argument. A static method is also a method that is bound to the class and not the object of the class.\n",
        "This method can’t access or modify the class state. It is present in a class because it makes sense for the method to be present in class.\n",
        "\n",
        "11.What is method overloading in Python1?\n",
        "Ans:-Method overloading is a feature of object-oriented programming where a class can have multiple methods with the same name but different parameters.\n",
        "To overload method, we must change the number of parameters or the type of parameters, or both.Method overloading is a feature that allows a class\n",
        "to define multiple methods with the same name but different parameters. While many languages (like Java and C++) support true method overloading,\n",
        "Python does not support method overloading in the traditional sense. Instead, Python allows a single method to handle different numbers or types of\n",
        "arguments using default arguments or the *args and **kwargs.\n",
        "\n",
        "12.What is method overriding in OOP?\n",
        "Ans:-In any object-oriented programming language, Overriding is a feature that allows a subclass or child class to provide a specific implementation of\n",
        "a method that is already provided by one of its super-classes or parent classes. When a method in a subclass has the same name, same parameters or\n",
        "signature and same return type(or sub-type) as a method in its super-class, then the method in the subclass is said to override the method in the\n",
        "super-class.The overridden method in the child class must have the same name, return type, and parameters as the method in the parent class.\n",
        "\n",
        "13.What is a property decorator in Python?\n",
        "Ans:-A decorator feature in Python wraps in a function, appends several functionalities to existing code and then returns it. Methods and functions\n",
        "are known to be callable as they can be called. Therefore, a decorator is also a callable that returns callable. This is also known as metaprogramming\n",
        "as at compile time a section of program alters another section of the program @property decorator is a built-in decorator in Python which is helpful in\n",
        "defining the properties effortlessly without manually calling the inbuilt function property(). Which is used to return the property attributes of a class\n",
        "from the stated getter, setter and deleter as parameters.\n",
        "\n",
        "14.Why is polymorphism important in OOP?\n",
        "Ans:-Polymorphism is a key concept in Object-Oriented Programming (OOP) that allows objects of different classes to be treated as objects of a\n",
        "common superclass. It provides flexibility, scalability, and maintainability in code design.\n",
        "1.Code Reusability.\n",
        "2. Flexibility & Scalability\n",
        "3. Improves Maintainability.\n",
        "4.Enhances Abstraction.\n",
        "5.Supports Dynamic Method Resolution.\n",
        "\n",
        "15.What is an abstract class in Python?\n",
        "Ans:-An abstract class in Python is a class that cannot be instantiated and is meant to be a blueprint for other classes.s. Abstract classes are created using\n",
        "the abc (Abstract Base Classes) module It can define abstract methods (methods without implementation) that must be implemented by subclasses.\n",
        "Abstract classes help enforce a common interface for all subclasses, promoting consistency and maintainability in object-oriented design.\n",
        "\n",
        "16.What are the advantages of OOP?\n",
        "Ans:- Modularity\n",
        "OOP allows developers to break down complex systems into smaller, more manageable objects. This makes it easier to troubleshoot and collaborate on code.\n",
        "Reusability\n",
        "OOP allows developers to reuse code through inheritance, which saves time and reduces development costs.\n",
        "Flexibility\n",
        "OOP allows developers to adapt a single function to the class it  in, and to pass different objects through the same interface.\n",
        "Security\n",
        "OOP uses encapsulation to bundle data and hide complex code, which makes software more secure.\n",
        "Scalability\n",
        "OOP allows developers to scale systems from small to large without major changes.\n",
        "Productivity\n",
        "OOP allows developers to construct new programs quickly using reusable code and libraries.\n",
        "Problem solving\n",
        "OOPs structured approach to breaking down problems helps developers solve them efficiently.\n",
        "Maintainability\n",
        "OOP allows developers to update and maintain parts of a system without making major changes.\n",
        "Collaboration\n",
        "OOP allows developers to divide a system into independent, self-contained units that they can develop, test, and maintain separately.\n",
        "\n",
        "17.What is the difference between a class variable and an instance variable?\n",
        "Ans:-     Class variable\n",
        "It is a variable that defines a specific attribute or property for a class.\n",
        "These variables can be shared between class and its subclasses.\n",
        "It is generally created when the program begins to execute.\n",
        "It normally retains values until the program terminates.\n",
        "It can be accessed by calling with the class name.\n",
        "\n",
        "      instance variable\n",
        "It is a variable whose value is instance-specific and now shared among instances.\n",
        "These variables cannot be shared between classes. Instead, they only belong to one specific class.\n",
        "It usually reserves memory for data that the class needs.\n",
        "It is generally created when an instance of the class is created.\n",
        "It normally retains values as long as the object exists.\n",
        "These variables are declared without using the static keyword.\n",
        "\n",
        "18.What is multiple inheritance in Python?\n",
        "Ans:-Multiple inheritance is a feature in Python that allows a class to inherit from more than one parent class. This means a child class can inherit\n",
        "attributes and methods from multiple base classes. it can lead to a lot of confusion when two parent classes have methods with the same name,\n",
        "and it’s not clear which one the subclass should inherit.\n",
        "\n",
        "19.Explain the purpose of ‘’str’ and ‘repr’‘ methods in Python?\n",
        "Ans:-Python, the str method is used to provide a human-readable string representation of an object, typically for display to end-users when printed,\n",
        "while repr provides a more detailed, unambiguous representation primarily used for debugging and developer purposes, aiming to potentially recreate\n",
        "the object from the string output if needed; essentially, str is for user-friendliness, and repr is for technicalclarity.\n",
        "\n",
        "20.What is the signicance of the ‘super()’ function in Python?\n",
        "Ans:- The super keyword refers to superclass (parent) objects. It is used to call superclass methods, and to access the superclass constructor.\n",
        "The most common use of the super keyword is to eliminate the confusion between superclasses and subclasses that have methods with the same name.\n",
        "While using the inheritance concept, we can refer to a parent class with the use of super() function inside the inherited or child class.\n",
        "The super() function we use in the child class returns a temporary created object of the superclass, that allow us to access all of its method present\n",
        "in the child class.\n",
        "\n",
        "21.What is the signicance of the del method in Python?\n",
        "Ans:-The __del__ method is a special method in Python that is called when an object is about to be destroyed. It allows you to dene specic cleanup\n",
        "actions that should be taken when an object is garbage collected. This method can be particularly useful for releasing external resources such as le\n",
        "handles, network connections, or   database connections that the object may hold.he del keyword in Python is primarily used to delete objects in Python.\n",
        "Since everything in Python represents an object in one way or another, The del keyword can also be used to delete a list, slice a list,\n",
        "delete dictionaries, remove key-value pairs from a dictionary, delete variables, etc.\n",
        "\n",
        "22.What is the difference between @staticmethod and @classmethod in Python?\n",
        "Ans:- @staticmethod\n",
        "1.A @staticmethod is a method that does not take self or cls as its first argument. It behaves like a regular function but belongs to the class namespace.\n",
        "2.It cannot access or modify the class or instance attributes. It’s independent of the class and instance.\n",
        "3.When you need a method that doesn’t need access to any instance or class-specific data, but logically belongs to the class.\n",
        "4.No special first argument (self or cls).\n",
        "5.Called via the class or an instance (doesn't require an instance).\n",
        "\n",
        "@classmethod\n",
        "1.A @classmethod is a method that takes cls (the class itself) as its first argument, rather than self (the instance). This allows it to access and modify class-level attributes.\n",
        "2.It can access class attributes and other class methods, but it cannot access instance-specific attributes unless passed explicitly.\n",
        "3.When you need to operate on class-level data or create factory methods (methods that instantiate objects of the class).\n",
        "4.Can access and modify class attributes\n",
        "5.Called via the class (or instance, but cls will be passed)\n",
        "\n",
        "23.How does polymorphism work in Python with inheritance?\n",
        "Ans:-Python, polymorphism, when used with inheritance, allows objects of different classes (usually related through inheritance) to respond to the\n",
        "same method call in different ways, essentially acting like the specic class they belong to, thanks to the concept of method overriding where a child\n",
        "class can redene a method inherited from its parent class, providing a customized implementation based on its needs; this means the same method name\n",
        "can perform different actions depending on which object is called upon, enabling exibility and code reuse.\n",
        "\n",
        "24.What is method chaining in Python OOP?\n",
        "Ans:-Method chaining is a powerful programming pattern that allows you to call multiple methods on an object in a single line of code.\n",
        "It enhances code readability and conciseness by eliminating the need for intermediate variables or repeated method calls. In this blog post,\n",
        "we will explore method chaining in Python This is possible when methods return self. allowing you to chain further operations on the modied object\n",
        "without needing to store intermediate results in separate variables; essentially, it lets you write code that reads like a natural sequence of actions\n",
        "on an object.\n",
        "\n",
        "25.What is the purpose of the call method in Python?\n",
        "Ans:- the call method allows you to create class instances that can be called like a function, essentially turning an object into a callable object,\n",
        "meaning you can use parentheses to execute its functionality directly; this is useful when you want to treat an object as if it were a regular function\n",
        "call. The call method is part of Python build-in methods also called dunder or magic methods because have two prexes and sux underscores in the method\n",
        "name. The main idea of call method is to write a class and invoke it like a function. You can refer to it as callable object.\n",
        "\n"
      ],
      "metadata": {
        "id": "KVvyFF_jARsk"
      },
      "execution_count": null,
      "outputs": []
    },
    {
      "cell_type": "code",
      "execution_count": null,
      "metadata": {
        "colab": {
          "base_uri": "https://localhost:8080/"
        },
        "id": "uRR-ZYQHAINs",
        "outputId": "208e7029-9db8-4a96-e2b0-a21f6a89ad97"
      },
      "outputs": [
        {
          "output_type": "stream",
          "name": "stdout",
          "text": [
            "This animal makes a sound.\n",
            "Bark!\n"
          ]
        }
      ],
      "source": [
        "\n",
        "\n",
        "# 1.Create a parent class Animal with a method speak() that prints a generic message. Create a child class Dog that overrides the speak() method to print \"Bark!\"\n",
        "class Animal:\n",
        "    def speak(self):\n",
        "        print(\"This animal makes a sound.\")\n",
        "\n",
        "# Child class inheriting from Animal\n",
        "class Dog(Animal):\n",
        "    def speak(self):\n",
        "        print(\"Bark!\")\n",
        "\n",
        "# Creating instances\n",
        "generic_animal = Animal()\n",
        "generic_animal.speak()\n",
        "\n",
        "dog = Dog()\n",
        "dog.speak()\n"
      ]
    },
    {
      "cell_type": "code",
      "source": [
        "# 2. Write a program to create an abstract class Shape with a method area(). Derive classes Circle and Rectangle from it and implement the area() method in both\n",
        "from abc import ABC, abstractmethod\n",
        "import math\n",
        "\n",
        "# Abstract class\n",
        "class Shape(ABC):\n",
        "    @abstractmethod\n",
        "    def area(self):\n",
        "        pass\n",
        "\n",
        "class Circle(Shape):\n",
        "    def __init__(self, radius):\n",
        "        self.radius = radius\n",
        "\n",
        "    def area(self):\n",
        "        return math.pi * self.radius ** 2\n",
        "\n",
        "class Rectangle(Shape):\n",
        "    def __init__(self, length, width):\n",
        "        self.length = length\n",
        "        self.width = width\n",
        "\n",
        "    def area(self):\n",
        "        return self.length * self.width\n",
        "\n",
        "circle = Circle(5)\n",
        "rectangle = Rectangle(10, 5)\n",
        "print(f\"Area of Circle: {circle.area():.2f}\")\n",
        "print(f\"Area of Rectangle: {rectangle.area()}\")\n"
      ],
      "metadata": {
        "colab": {
          "base_uri": "https://localhost:8080/"
        },
        "id": "fgYDUhwvAJtR",
        "outputId": "c79552d1-d57e-4e28-d761-68d1888dd309"
      },
      "execution_count": null,
      "outputs": [
        {
          "output_type": "stream",
          "name": "stdout",
          "text": [
            "Area of Circle: 78.54\n",
            "Area of Rectangle: 50\n"
          ]
        }
      ]
    },
    {
      "cell_type": "code",
      "source": [
        "# 3. Implement a multi-level inheritance scenario where a class Vehicle has an attribute type. Derive a class Car and further derive a class ElectricCar that adds a battery attribute\n",
        "\n",
        "class Vehicle:\n",
        "  def __init__(self, type):\n",
        "      self.type = type\n",
        "class Car(Vehicle):\n",
        "      def __init__(self, type, model):\n",
        "         super().__init__(type)\n",
        "         self.model = model\n",
        "class ElectricCar(Car):\n",
        "          def __init__(self, type, model, battery_capacity):\n",
        "             super().__init__(type, model)\n",
        "             self.battery_capacity = battery_capacity\n",
        "electric_car = ElectricCar(\"Electric\", \"fortuner Punch model xl\", \"250kWh\")\n",
        "print(electric_car.type)\n",
        "print(electric_car.model)\n",
        "print(electric_car.battery_capacity)"
      ],
      "metadata": {
        "colab": {
          "base_uri": "https://localhost:8080/"
        },
        "id": "a_d-tQkJEwfo",
        "outputId": "cc07575b-d748-4a91-afdc-b00a67699397"
      },
      "execution_count": null,
      "outputs": [
        {
          "output_type": "stream",
          "name": "stdout",
          "text": [
            "Electric\n",
            "fortuner Punch model xl\n",
            "250kWh\n"
          ]
        }
      ]
    },
    {
      "cell_type": "code",
      "source": [
        "# 4.Implement a multi-level inheritance scenario where a class Vehicle has an attribute type. Derive a class Car and further derive a class ElectricCar that adds a battery attribute\n",
        "\n",
        "class Vehicle:\n",
        "  def __init__(self, type):\n",
        "     self.type = type\n",
        "\n",
        "class Car(Vehicle):\n",
        "  def __init__(self, type, model):\n",
        "     super().__init__(type)\n",
        "     self.model = model\n",
        "\n",
        "class ElectricCar(Car):\n",
        "  def __init__(self, type, model, battery_capacity):\n",
        "     super().__init__(type, model)\n",
        "     self.battery_capacity = battery_capacity\n",
        "\n",
        "electric_car = ElectricCar(\"Electric\", \"suzuki model Nexon\", \"350 kWh\")\n",
        "print(electric_car.type)\n",
        "print(electric_car.model)\n",
        "electric_car.battery_capacity"
      ],
      "metadata": {
        "colab": {
          "base_uri": "https://localhost:8080/",
          "height": 70
        },
        "id": "xuGCgfTWFklU",
        "outputId": "049d293f-697d-44c7-f8ea-31f2c7bf0ce5"
      },
      "execution_count": null,
      "outputs": [
        {
          "output_type": "stream",
          "name": "stdout",
          "text": [
            "Electric\n",
            "suzuki model Nexon\n"
          ]
        },
        {
          "output_type": "execute_result",
          "data": {
            "text/plain": [
              "'350 kWh'"
            ],
            "application/vnd.google.colaboratory.intrinsic+json": {
              "type": "string"
            }
          },
          "metadata": {},
          "execution_count": 14
        }
      ]
    },
    {
      "cell_type": "code",
      "source": [
        "# 5.Write a program to demonstrate encapsulation by creating a class BankAccount with private attributes balance and methods to deposit, withdraw, and check balance\n",
        "class BankAccount:\n",
        "    def __init__(self, account_holder, initial_balance=0):\n",
        "        self.account_holder = account_holder  # Public attribute\n",
        "        self.__balance = initial_balance      # public attribute\n",
        "\n",
        "    def deposit(self, amount):\n",
        "        if amount > 0:\n",
        "            self.__balance += amount\n",
        "            print(\"Deposited:\", amount)\n",
        "\n",
        "        else:\n",
        "            print(\"Deposit amount must be positive.\")\n",
        "\n",
        "\n",
        "    def withdraw(self, amount):\n",
        "        if 0 < amount <= self.__balance:\n",
        "            self.__balance -= amount\n",
        "            print(\"Withdrew:\", amount)\n",
        "        else:\n",
        "            print(\"Insufficient balance or invalid amount.\")\n",
        "\n",
        "    def check_balance(self):\n",
        "       print(\"Current balance:\", self.__balance)\n",
        "\n",
        "\n",
        "account = BankAccount(\"Alice\", 400)\n",
        "\n",
        "account.check_balance()\n",
        "account.deposit(300)\n",
        "account.withdraw(200)\n",
        "account.check_balance()\n",
        "\n",
        "\n"
      ],
      "metadata": {
        "colab": {
          "base_uri": "https://localhost:8080/"
        },
        "id": "5_REu50zHCT7",
        "outputId": "4435bace-41fc-4a65-939f-6bafd6d307be"
      },
      "execution_count": null,
      "outputs": [
        {
          "output_type": "stream",
          "name": "stdout",
          "text": [
            "Current balance: 400\n",
            "Deposited: 300\n",
            "Withdrew: 200\n",
            "Current balance: 500\n"
          ]
        }
      ]
    },
    {
      "cell_type": "code",
      "source": [
        "# 6.Demonstrate runtime polymorphism using a method play() in a base class Instrument. Derive classes Guitar and Piano that implement their own version of play().\n",
        "from abc import ABC, abstractmethod\n",
        "class Instrument(ABC):\n",
        "   @abstractmethod\n",
        "   def play(self):\n",
        "    pass\n",
        "\n",
        "class Guitar(Instrument):\n",
        "  def play(self):\n",
        "    print(\"Playing the guitar\")\n",
        "\n",
        "class Piano(Instrument):\n",
        "  def play(self):\n",
        "    print(\"Playing the piano\")\n",
        "\n",
        "guitar = Guitar()\n",
        "piano = Piano()\n",
        "\n",
        "guitar.play()\n",
        "piano.play()\n"
      ],
      "metadata": {
        "colab": {
          "base_uri": "https://localhost:8080/"
        },
        "id": "12Gpx2EOLbRk",
        "outputId": "fd246ee2-a160-4d3d-fb1e-c37ef72ed21b"
      },
      "execution_count": null,
      "outputs": [
        {
          "output_type": "stream",
          "name": "stdout",
          "text": [
            "Playing the guitar\n",
            "Playing the piano\n"
          ]
        }
      ]
    },
    {
      "cell_type": "code",
      "source": [
        "# 7.Create a class MathOperations with a class method add_numbers() to add two numbers and a static method subtract_numbers() to subtract two number.\n",
        "\n",
        "\n",
        "class MathOperations:\n",
        "    @classmethod\n",
        "    def add_numbers(cls, x, y):\n",
        "        return x + y\n",
        "\n",
        "    @staticmethod\n",
        "    def subtract_numbers(x, y):\n",
        "        return x - y\n",
        "\n",
        "result1 = MathOperations.add_numbers(6, 5)\n",
        "print(result1)\n",
        "\n",
        "result2 = MathOperations.subtract_numbers(6, 5)\n",
        "print(result2)"
      ],
      "metadata": {
        "id": "hPrSnoL8NO5A",
        "colab": {
          "base_uri": "https://localhost:8080/"
        },
        "outputId": "fbfe29e4-3a78-4a38-8a48-929149ce60e8"
      },
      "execution_count": null,
      "outputs": [
        {
          "output_type": "stream",
          "name": "stdout",
          "text": [
            "11\n",
            "1\n"
          ]
        }
      ]
    },
    {
      "cell_type": "code",
      "source": [
        "# 8. Implement a class Person with a class method to count the total number of persons created.\n",
        "class Person:\n",
        " total_persons = 0\n",
        "\n",
        " def __init__(self, name):\n",
        "    self.name = name\n",
        "    Person.total_persons += 1\n",
        "\n",
        " @classmethod\n",
        " def get_total_persons(cls):\n",
        "     return cls.total_persons\n",
        "\n",
        "person1 = Person(\"Rahul\")\n",
        "person2 = Person(\"Shunil\")\n",
        "person3 = Person(\"Rohit\")\n",
        "\n",
        "print(Person.get_total_persons())\n"
      ],
      "metadata": {
        "colab": {
          "base_uri": "https://localhost:8080/"
        },
        "id": "8xw7DCJkOwQZ",
        "outputId": "22eaa35f-b0d0-4d5d-c4dc-58b5d7f5bafa"
      },
      "execution_count": null,
      "outputs": [
        {
          "output_type": "stream",
          "name": "stdout",
          "text": [
            "3\n"
          ]
        }
      ]
    },
    {
      "cell_type": "code",
      "source": [
        "# 9.Write a class Fraction with attributes numerator and denominator. Override the str method to display the fraction as \"numerator/denominator\".\n",
        "\n",
        "class Fraction:\n",
        "    def __init__(self, numerator, denominator):\n",
        "        self.numerator = numerator\n",
        "        self.denominator = denominator\n",
        "\n",
        "    def __str__(self):\n",
        "        return f\"{self.numerator}/{self.denominator}\"\n",
        "\n",
        "fraction = Fraction(10, 5)\n",
        "print(fraction)\n",
        "\n"
      ],
      "metadata": {
        "colab": {
          "base_uri": "https://localhost:8080/"
        },
        "id": "EZ3piFPNSBDH",
        "outputId": "2076d4b0-d7b5-4a0a-8430-5a0ec3a6a1e8"
      },
      "execution_count": null,
      "outputs": [
        {
          "output_type": "stream",
          "name": "stdout",
          "text": [
            "10/5\n"
          ]
        }
      ]
    },
    {
      "cell_type": "code",
      "source": [
        "\n",
        "#  10.Demonstrate operator overloading by creating a class Vector and overriding the add method to add two vectors.\n",
        "\n",
        "class Vector:\n",
        " def __init__(self, x, y):\n",
        "    self.x = x\n",
        "    self.y = y\n",
        "\n",
        " def __add__(self, other):\n",
        "     return Vector(self.x + other.x, self.y + other.y)\n",
        "\n",
        " def __str__(self):\n",
        "    return f\"({self.x}, {self.y})\"\n",
        "\n",
        "v1 = Vector(11, 2)\n",
        "v2 = Vector(9, 6)\n",
        "v3 = v1 + v2\n",
        "print(v3)\n",
        "\n"
      ],
      "metadata": {
        "colab": {
          "base_uri": "https://localhost:8080/"
        },
        "id": "MNx6fYPqSfoP",
        "outputId": "e77530c9-8478-452b-f2e1-797d71aa146a"
      },
      "execution_count": null,
      "outputs": [
        {
          "output_type": "stream",
          "name": "stdout",
          "text": [
            "(20, 8)\n"
          ]
        }
      ]
    },
    {
      "cell_type": "code",
      "source": [
        "# 11. Create a class Person with attributes name and age. Add a method greet() that prints \"Hello, my name is {name} and I am {age} years old.\"\n",
        "\n",
        "class Person:\n",
        " def __init__(self, name, age):\n",
        "    self.name = name\n",
        "    self.age = age\n",
        "\n",
        " def greet(self):\n",
        "     print(f\"Hello, my name is {self.name} and I am {self.age} years old.\")\n",
        "\n",
        "person = Person(\"sumit\", 20)\n",
        "person.greet()\n"
      ],
      "metadata": {
        "colab": {
          "base_uri": "https://localhost:8080/"
        },
        "id": "904M3IIpT7nd",
        "outputId": "f9f0573f-449f-49af-d70a-4f041d0ff5f1"
      },
      "execution_count": null,
      "outputs": [
        {
          "output_type": "stream",
          "name": "stdout",
          "text": [
            "Hello, my name is sumit and I am 20 years old.\n"
          ]
        }
      ]
    },
    {
      "cell_type": "code",
      "source": [
        "# 12.Implement a class Student with attributes name and grades. Create a method average_grade() to compute the average of the grades.\n",
        "class Student:\n",
        "    def __init__(self, name, grades):\n",
        "        self.name = name\n",
        "        self.grades = grades\n",
        "\n",
        "    def average_grade(self):\n",
        "        if not self.grades:\n",
        "            return 0\n",
        "\n",
        "        return sum(self.grades) / len(self.grades)\n",
        "student = Student(\"Alice\", [75, 60, 78, 92])\n",
        "print(student.average_grade())"
      ],
      "metadata": {
        "colab": {
          "base_uri": "https://localhost:8080/"
        },
        "id": "cuWgX07mU__g",
        "outputId": "85fddf0d-dee9-41eb-dd81-f095d175277a"
      },
      "execution_count": 47,
      "outputs": [
        {
          "output_type": "stream",
          "name": "stdout",
          "text": [
            "76.25\n"
          ]
        }
      ]
    },
    {
      "cell_type": "code",
      "source": [
        "# 13.Create a class Rectangle with methods set_dimensions() to set the dimensions and area() to calculate the area.\n",
        "\n",
        "class Rectangle:\n",
        "    def __init__(self):\n",
        "        self.width = 0\n",
        "        self.height = 0\n",
        "\n",
        "    def set_dimensions(self, width, height):\n",
        "        self.width = width\n",
        "        self.height = height\n",
        "\n",
        "    def area(self):\n",
        "        return self.width * self.height\n",
        "\n",
        "rectangle = Rectangle()\n",
        "rectangle.set_dimensions(10, 4)\n",
        "print(rectangle.area())"
      ],
      "metadata": {
        "id": "GUq4p2xvVeQ6",
        "colab": {
          "base_uri": "https://localhost:8080/"
        },
        "outputId": "59863fe8-64bf-41d8-a6ae-95a4de95604e"
      },
      "execution_count": 55,
      "outputs": [
        {
          "output_type": "stream",
          "name": "stdout",
          "text": [
            "40\n"
          ]
        }
      ]
    },
    {
      "cell_type": "code",
      "source": [
        "# 14.Create a class Employee with a method calculate_salary() that computes the salary based on hours worked and hourly rate. Create a derived class Manager that adds a bonus to the salary.\n",
        "\n",
        "class Employee:\n",
        " def __init__(self, hours_worked, hourly_rate):\n",
        "     self.hours_worked = hours_worked\n",
        "     self.hourly_rate = hourly_rate\n",
        "\n",
        " def calculate_salary(self):\n",
        "     return self.hours_worked * self.hourly_rate\n",
        "\n",
        "class Manager(Employee):\n",
        " def __init__(self, hours_worked, hourly_rate, bonus):\n",
        "    super().__init__(hours_worked, hourly_rate)\n",
        "    self.bonus = bonus\n",
        "\n",
        " def calculate_salary(self):\n",
        "     return super().calculate_salary() + self.bonus\n",
        "\n",
        "employee = Employee(50, 20)\n",
        "print(employee.calculate_salary())\n",
        "manager = Manager(65, 20, 8000)\n",
        "print(manager.calculate_salary())"
      ],
      "metadata": {
        "colab": {
          "base_uri": "https://localhost:8080/"
        },
        "id": "2SDY_pa0WT3W",
        "outputId": "2cfcaf65-b60b-4030-9637-fa01221f0f31"
      },
      "execution_count": 57,
      "outputs": [
        {
          "output_type": "stream",
          "name": "stdout",
          "text": [
            "1000\n",
            "9300\n"
          ]
        }
      ]
    },
    {
      "cell_type": "code",
      "source": [
        "# 15.Create a class Product with attributes name, price, and quantity. Implement a method total_price() that calculates the total price of the product.\n",
        "class Product:\n",
        " def __init__(self, name, price, quantity):\n",
        "     self.name = name\n",
        "     self.price = price\n",
        "     self.quantity = quantity\n",
        "\n",
        " def total_price(self):\n",
        "     return self.price * self.quantity\n",
        "\n",
        "product = Product(\"phone\", 25000.20, 5)\n",
        "print(product.total_price())\n",
        "\n"
      ],
      "metadata": {
        "colab": {
          "base_uri": "https://localhost:8080/"
        },
        "id": "d1w_rklNXvx4",
        "outputId": "5de31fe5-05cd-4ba2-8b8d-84368da6cc66"
      },
      "execution_count": 60,
      "outputs": [
        {
          "output_type": "stream",
          "name": "stdout",
          "text": [
            "125001.0\n"
          ]
        }
      ]
    },
    {
      "cell_type": "code",
      "source": [
        "# 16.Create a class Animal with an abstract method sound(). Create two derived classes Cow and Sheep that implement the sound() method.\n",
        "\n",
        "from abc import ABC, abstractmethod\n",
        "class Animal(ABC):\n",
        "    @abstractmethod\n",
        "    def sound(self):\n",
        "        pass\n",
        "\n",
        "class Cow(Animal):\n",
        "    def sound(self):\n",
        "        print(\"Moo\")\n",
        "\n",
        "class Sheep(Animal):\n",
        "    def sound(self):\n",
        "        print(\"Baa\")\n",
        "\n",
        "cow = Cow()\n",
        "cow.sound()\n",
        "sheep = Sheep()\n",
        "sheep.sound()"
      ],
      "metadata": {
        "colab": {
          "base_uri": "https://localhost:8080/"
        },
        "id": "814jLcTgYP3w",
        "outputId": "0eb395a8-a388-4f86-9ab4-72fcc101b9be"
      },
      "execution_count": 68,
      "outputs": [
        {
          "output_type": "stream",
          "name": "stdout",
          "text": [
            "Moo\n",
            "Baa\n"
          ]
        }
      ]
    },
    {
      "cell_type": "code",
      "source": [
        "# 17.Create a class Book with attributes title, author, and year_published. Add a method get_book_info() that returns a formatted string with the book's details.\n",
        "class Book:\n",
        "    def __init__(self, title, author, year_published):\n",
        "        self.title = title\n",
        "        self.author = author\n",
        "        self.year_published = year_published\n",
        "\n",
        "    def get_book_info(self):\n",
        "        return f\"\"\"Title: {self.title}, Author: {self.author}, Year Published: {self.year_published}\"\"\"\n",
        "\n",
        "book = Book(\"The BHAGWAT GEETA as it is\", \"Bhaktivedanta Swami Prabhupada\", 2018)\n",
        "print(book.get_book_info())\n"
      ],
      "metadata": {
        "colab": {
          "base_uri": "https://localhost:8080/"
        },
        "id": "pLqlJ4-nYjCv",
        "outputId": "300a8d5f-0ab5-4997-e47f-3d940eb5d8aa"
      },
      "execution_count": 71,
      "outputs": [
        {
          "output_type": "stream",
          "name": "stdout",
          "text": [
            "Title: The BHAGWAT GEETA as it is, Author: Bhaktivedanta Swami Prabhupada, Year Published: 2018\n"
          ]
        }
      ]
    },
    {
      "cell_type": "code",
      "source": [
        "# 18. Create a class House with attributes address and price. Create a derived class Mansion that adds an attribute number_of_rooms.\n",
        "class House:\n",
        "   def __init__(self, address, price):\n",
        "     self.address = address\n",
        "     self.price = price\n",
        "\n",
        "class Mansion(House):\n",
        "   def __init__(self, address, price, number_of_rooms):\n",
        "    super().__init__(address, price)\n",
        "    self.number_of_rooms = number_of_rooms\n",
        "\n",
        "mansion = Mansion(\"244 bihar House\", 2500000, 200)\n",
        "print(mansion.address)\n",
        "print(mansion.price)\n",
        "print(mansion.number_of_rooms)\n"
      ],
      "metadata": {
        "colab": {
          "base_uri": "https://localhost:8080/"
        },
        "id": "V1t5JRvmaVIt",
        "outputId": "9cb5635b-821c-4911-ce47-800d907bb230"
      },
      "execution_count": 73,
      "outputs": [
        {
          "output_type": "stream",
          "name": "stdout",
          "text": [
            "244 bihar House\n",
            "2500000\n",
            "200\n"
          ]
        }
      ]
    },
    {
      "cell_type": "code",
      "source": [],
      "metadata": {
        "id": "XUHSqL64bCT2"
      },
      "execution_count": null,
      "outputs": []
    }
  ]
}